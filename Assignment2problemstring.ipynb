{
 "cells": [
  {
   "cell_type": "markdown",
   "id": "4227c455",
   "metadata": {},
   "source": [
    "# TOPIC: String Based Assignment Problem"
   ]
  },
  {
   "cell_type": "markdown",
   "id": "9554d5a0",
   "metadata": {},
   "source": [
    "1. Write a program to reverse a string."
   ]
  },
  {
   "cell_type": "code",
   "execution_count": 1,
   "id": "791b813e",
   "metadata": {
    "scrolled": true
   },
   "outputs": [
    {
     "data": {
      "text/plain": [
       "'lawjarP si eman yM'"
      ]
     },
     "execution_count": 1,
     "metadata": {},
     "output_type": "execute_result"
    }
   ],
   "source": [
    "s=\"My name is Prajwal\"\n",
    "s[::-1]"
   ]
  },
  {
   "cell_type": "code",
   "execution_count": null,
   "id": "76d4e1da",
   "metadata": {},
   "outputs": [],
   "source": []
  },
  {
   "cell_type": "markdown",
   "id": "473d7a1b",
   "metadata": {},
   "source": [
    "2. Check if a string is a palindrome."
   ]
  },
  {
   "cell_type": "code",
   "execution_count": 10,
   "id": "fe1af046",
   "metadata": {},
   "outputs": [
    {
     "name": "stdout",
     "output_type": "stream",
     "text": [
      "Enter the word moM\n",
      "It is a palindrome\n"
     ]
    }
   ],
   "source": [
    "string=input(\"Enter the word \")\n",
    "\n",
    "string=string.upper()\n",
    "\n",
    "if (string==string[::-1]):\n",
    "    print(\"It is a palindrome\")\n",
    "else:\n",
    "    print(\"Its not a palindrome\")"
   ]
  },
  {
   "cell_type": "code",
   "execution_count": null,
   "id": "cb058e8f",
   "metadata": {},
   "outputs": [],
   "source": []
  },
  {
   "cell_type": "markdown",
   "id": "fc42b5da",
   "metadata": {},
   "source": [
    "3. Convert a string to uppercase."
   ]
  },
  {
   "cell_type": "code",
   "execution_count": 11,
   "id": "232a25c1",
   "metadata": {},
   "outputs": [
    {
     "data": {
      "text/plain": [
       "'MY NAME IS SUHAS'"
      ]
     },
     "execution_count": 11,
     "metadata": {},
     "output_type": "execute_result"
    }
   ],
   "source": [
    "String1=\"my name is suhas\"\n",
    "String1.upper()"
   ]
  },
  {
   "cell_type": "code",
   "execution_count": null,
   "id": "14d1ad8b",
   "metadata": {},
   "outputs": [],
   "source": []
  },
  {
   "cell_type": "markdown",
   "id": "e74786b4",
   "metadata": {},
   "source": [
    "4. Convert a string to lowercase."
   ]
  },
  {
   "cell_type": "code",
   "execution_count": 12,
   "id": "c006e106",
   "metadata": {},
   "outputs": [
    {
     "data": {
      "text/plain": [
       "'my name is prajwal'"
      ]
     },
     "execution_count": 12,
     "metadata": {},
     "output_type": "execute_result"
    }
   ],
   "source": [
    "String1=\"MY NAME IS PRAJWAL\"\n",
    "String1.lower()"
   ]
  },
  {
   "cell_type": "code",
   "execution_count": null,
   "id": "11a574f8",
   "metadata": {},
   "outputs": [],
   "source": []
  },
  {
   "cell_type": "markdown",
   "id": "12f9258a",
   "metadata": {},
   "source": [
    "5. Count the number of vowels in a string."
   ]
  },
  {
   "cell_type": "code",
   "execution_count": 23,
   "id": "90f02c73",
   "metadata": {},
   "outputs": [
    {
     "name": "stdout",
     "output_type": "stream",
     "text": [
      "Enter the stringhow are u\n",
      "o\n",
      "a\n",
      "e\n",
      "u\n",
      "Number of vowels: 4\n"
     ]
    }
   ],
   "source": [
    "input_string =input(\"Enter the string \")\n",
    "vowels = \"aeiouAEIOU\"\n",
    "vowel_count = 0\n",
    "\n",
    "for char in input_string:\n",
    "    if char in vowels:\n",
    "        vowel_count += 1\n",
    "        print(char)\n",
    "\n",
    "print(\"Number of vowels:\", vowel_count)"
   ]
  },
  {
   "cell_type": "code",
   "execution_count": null,
   "id": "f27765f0",
   "metadata": {},
   "outputs": [],
   "source": []
  },
  {
   "cell_type": "markdown",
   "id": "51735cba",
   "metadata": {},
   "source": [
    "6. Count the number of consonants in a string."
   ]
  },
  {
   "cell_type": "code",
   "execution_count": 32,
   "id": "49e3dc16",
   "metadata": {},
   "outputs": [
    {
     "name": "stdout",
     "output_type": "stream",
     "text": [
      "Enter the string how r u\n",
      "h\n",
      "w\n",
      "r\n",
      "Number of consonant: 3\n"
     ]
    }
   ],
   "source": [
    "input_string =input(\"Enter the string \")\n",
    "vowels = \"aeiouAEIOU\"\n",
    "consonant_count = 0\n",
    "\n",
    "input_string1=\"\".join(input_string.split())\n",
    "\n",
    "\n",
    "for char in input_string1:\n",
    "    if char  not in vowels:\n",
    "        consonant_count += 1\n",
    "        print(char)\n",
    "\n",
    "print(\"Number of consonant:\", consonant_count)"
   ]
  },
  {
   "cell_type": "code",
   "execution_count": null,
   "id": "cd075600",
   "metadata": {},
   "outputs": [],
   "source": []
  },
  {
   "cell_type": "markdown",
   "id": "882e8ab2",
   "metadata": {},
   "source": [
    "7. Remove all whitespaces from a string."
   ]
  },
  {
   "cell_type": "code",
   "execution_count": 33,
   "id": "0c69d818",
   "metadata": {},
   "outputs": [
    {
     "name": "stdout",
     "output_type": "stream",
     "text": [
      "howru\n"
     ]
    }
   ],
   "source": [
    "input_string =\"how r u\"\n",
    "input_string1=\"\".join(input_string.split())\n",
    "print(input_string1)"
   ]
  },
  {
   "cell_type": "code",
   "execution_count": null,
   "id": "017aa755",
   "metadata": {},
   "outputs": [],
   "source": []
  },
  {
   "cell_type": "markdown",
   "id": "63281905",
   "metadata": {},
   "source": [
    "8. Find the length of a string without using the `len()` function."
   ]
  },
  {
   "cell_type": "code",
   "execution_count": 34,
   "id": "7825d967",
   "metadata": {},
   "outputs": [
    {
     "name": "stdout",
     "output_type": "stream",
     "text": [
      "7\n"
     ]
    }
   ],
   "source": [
    "input_string =\"how r u\"\n",
    "print(len(input_string))"
   ]
  },
  {
   "cell_type": "code",
   "execution_count": null,
   "id": "2735808c",
   "metadata": {},
   "outputs": [],
   "source": []
  },
  {
   "cell_type": "markdown",
   "id": "32961365",
   "metadata": {},
   "source": [
    "9. Check if a string contains a specific word."
   ]
  },
  {
   "cell_type": "code",
   "execution_count": 35,
   "id": "1a6330f9",
   "metadata": {},
   "outputs": [
    {
     "data": {
      "text/plain": [
       "True"
      ]
     },
     "execution_count": 35,
     "metadata": {},
     "output_type": "execute_result"
    }
   ],
   "source": [
    "input_string =\"how r u\"\n",
    "\n",
    "\"how\" in input_string"
   ]
  },
  {
   "cell_type": "code",
   "execution_count": null,
   "id": "c263519f",
   "metadata": {},
   "outputs": [],
   "source": []
  },
  {
   "cell_type": "markdown",
   "id": "d93d7cc0",
   "metadata": {},
   "source": [
    "10. Replace a word in a string with another word."
   ]
  },
  {
   "cell_type": "code",
   "execution_count": 36,
   "id": "618840c1",
   "metadata": {},
   "outputs": [
    {
     "name": "stdout",
     "output_type": "stream",
     "text": [
      "Original string: The quick brown fox jumps over the lazy dog.\n",
      "Modified string: The quick brown cat jumps over the lazy dog.\n"
     ]
    }
   ],
   "source": [
    "original_string = \"The quick brown fox jumps over the lazy dog.\"\n",
    "old_word = \"fox\"\n",
    "new_word = \"cat\"\n",
    "\n",
    "new_string = original_string.replace(old_word, new_word)\n",
    "\n",
    "print(\"Original string:\", original_string)\n",
    "print(\"Modified string:\", new_string)\n"
   ]
  },
  {
   "cell_type": "code",
   "execution_count": null,
   "id": "69d40bb2",
   "metadata": {},
   "outputs": [],
   "source": []
  },
  {
   "cell_type": "markdown",
   "id": "f9c2cfc0",
   "metadata": {},
   "source": [
    "11. Count the occurrences of a word in a string."
   ]
  },
  {
   "cell_type": "code",
   "execution_count": 37,
   "id": "42899259",
   "metadata": {},
   "outputs": [
    {
     "name": "stdout",
     "output_type": "stream",
     "text": [
      "The word 'fox' appears 2 times.\n"
     ]
    }
   ],
   "source": [
    "def count_word_occurrences(text, target_word):\n",
    "    words = text.split()\n",
    "    count = 0\n",
    "    for word in words:\n",
    "        if word == target_word:\n",
    "            count += 1\n",
    "    return count\n",
    "\n",
    "input_string = \"The quick brown fox jumps over the lazy dog. The fox is fast.\"\n",
    "target_word = \"fox\"\n",
    "word_count = count_word_occurrences(input_string, target_word)\n",
    "\n",
    "print(f\"The word '{target_word}' appears {word_count} times.\")"
   ]
  },
  {
   "cell_type": "code",
   "execution_count": null,
   "id": "50b796a2",
   "metadata": {},
   "outputs": [],
   "source": []
  },
  {
   "cell_type": "markdown",
   "id": "3ece9249",
   "metadata": {},
   "source": [
    "12. Find the first occurrence of a word in a string."
   ]
  },
  {
   "cell_type": "code",
   "execution_count": 1,
   "id": "caa3faf1",
   "metadata": {},
   "outputs": [
    {
     "name": "stdout",
     "output_type": "stream",
     "text": [
      "19\n",
      "The word 'sentence' first occurs at index 19.\n"
     ]
    }
   ],
   "source": [
    "input_string = \"This is an example sentence. This sentence is for demonstration.\"\n",
    "target_word = \"sentence\"\n",
    "\n",
    "\n",
    "index = input_string.find(target_word)\n",
    "\n",
    "\n",
    "if index != -1:\n",
    "    print(f\"The word '{target_word}' first occurs at index {index}.\")\n",
    "else:\n",
    "    print(f\"The word '{target_word}' does not appear in the string.\")"
   ]
  },
  {
   "cell_type": "code",
   "execution_count": null,
   "id": "2e5ffbec",
   "metadata": {},
   "outputs": [],
   "source": [
    "\n"
   ]
  },
  {
   "cell_type": "markdown",
   "id": "84341f64",
   "metadata": {},
   "source": [
    "13. Find the last occurrence of a word in a string."
   ]
  },
  {
   "cell_type": "code",
   "execution_count": 6,
   "id": "9a751c6d",
   "metadata": {},
   "outputs": [
    {
     "name": "stdout",
     "output_type": "stream",
     "text": [
      "The word 'sentence' last occurs at index 82.\n"
     ]
    }
   ],
   "source": [
    "input_string = \"This is an example sentence. This sentence is for demonstration. This is the last sentence.\"\n",
    "target_word = \"sentence\"\n",
    "\n",
    "\n",
    "index = input_string.rfind(target_word)\n",
    "\n",
    "if index != -1:\n",
    "    print(f\"The word '{target_word}' last occurs at index {index}.\")\n",
    "else:\n",
    "    print(f\"The word '{target_word}' does not appear in the string.\")"
   ]
  },
  {
   "cell_type": "code",
   "execution_count": null,
   "id": "664ed5be",
   "metadata": {},
   "outputs": [],
   "source": []
  },
  {
   "cell_type": "markdown",
   "id": "3ae4192a",
   "metadata": {},
   "source": [
    "14. Split a string into a list of words."
   ]
  },
  {
   "cell_type": "code",
   "execution_count": 10,
   "id": "fd497734",
   "metadata": {},
   "outputs": [
    {
     "name": "stdout",
     "output_type": "stream",
     "text": [
      "['This', 'is', 'an', 'example', 'sentence.', 'This', 'sentence', 'is', 'for', 'demonstration.']\n"
     ]
    }
   ],
   "source": [
    "input_string = \"This is an example sentence. This sentence is for demonstration.\"\n",
    "\n",
    "\n",
    "word_list = list(input_string.split())\n",
    "\n",
    "print(word_list)"
   ]
  },
  {
   "cell_type": "code",
   "execution_count": null,
   "id": "23ae4833",
   "metadata": {},
   "outputs": [],
   "source": []
  },
  {
   "cell_type": "markdown",
   "id": "170b19e0",
   "metadata": {},
   "source": [
    "15. Join a list of words into a string."
   ]
  },
  {
   "cell_type": "code",
   "execution_count": 14,
   "id": "44ab4879",
   "metadata": {},
   "outputs": [
    {
     "name": "stdout",
     "output_type": "stream",
     "text": [
      "This is an example sentence. This sentence is for demonstration.\n"
     ]
    }
   ],
   "source": [
    "word_list = ['This', 'is', 'an', 'example', 'sentence.', 'This', 'sentence', 'is', 'for', 'demonstration.']\n",
    "\n",
    "\n",
    "joined_string = \" \".join(word_list)\n",
    "\n",
    "print(joined_string)"
   ]
  },
  {
   "cell_type": "code",
   "execution_count": null,
   "id": "616f471f",
   "metadata": {},
   "outputs": [],
   "source": []
  },
  {
   "cell_type": "markdown",
   "id": "128a5598",
   "metadata": {},
   "source": [
    "16. Convert a string where words are separated by spaces to one where words\n",
    "are separated by underscores."
   ]
  },
  {
   "cell_type": "code",
   "execution_count": 15,
   "id": "3d891047",
   "metadata": {},
   "outputs": [
    {
     "name": "stdout",
     "output_type": "stream",
     "text": [
      "This_is_an_example_sentence._This_sentence_is_for_demonstration.\n"
     ]
    }
   ],
   "source": [
    "input_string = \"This is an example sentence. This sentence is for demonstration.\"\n",
    "\n",
    "\n",
    "underscored_string = input_string.replace(' ', '_')\n",
    "\n",
    "print(underscored_string)"
   ]
  },
  {
   "cell_type": "code",
   "execution_count": null,
   "id": "55dd79c2",
   "metadata": {},
   "outputs": [],
   "source": []
  },
  {
   "cell_type": "markdown",
   "id": "240920c9",
   "metadata": {},
   "source": [
    "17. Check if a string starts with a specific word or phrase."
   ]
  },
  {
   "cell_type": "code",
   "execution_count": 16,
   "id": "feee9a39",
   "metadata": {},
   "outputs": [
    {
     "name": "stdout",
     "output_type": "stream",
     "text": [
      "The string starts with 'Hello'.\n"
     ]
    }
   ],
   "source": [
    "input_string = \"Hello, how are you doing today?\"\n",
    "\n",
    "specific_word = \"Hello\"\n",
    "\n",
    "if input_string.startswith(specific_word):\n",
    "    print(f\"The string starts with '{specific_word}'.\")\n",
    "else:\n",
    "    print(f\"The string does not start with '{specific_word}'.\")\n"
   ]
  },
  {
   "cell_type": "code",
   "execution_count": null,
   "id": "559ba368",
   "metadata": {},
   "outputs": [],
   "source": []
  },
  {
   "cell_type": "markdown",
   "id": "5e8dd198",
   "metadata": {},
   "source": [
    "18. Check if a string ends with a specific word or phrase."
   ]
  },
  {
   "cell_type": "code",
   "execution_count": 24,
   "id": "f3b421fb",
   "metadata": {},
   "outputs": [
    {
     "name": "stdout",
     "output_type": "stream",
     "text": [
      "The string ends with 'today?'.\n"
     ]
    }
   ],
   "source": [
    "input_string = \"Hello, how are you doing today?\"\n",
    "\n",
    "specific_word = \"today?\"\n",
    "\n",
    "if input_string.endswith(specific_word):\n",
    "    print(f\"The string ends with '{specific_word}'.\")\n",
    "else:\n",
    "    print(f\"The string does not ends with '{specific_word}'.\")\n"
   ]
  },
  {
   "cell_type": "code",
   "execution_count": null,
   "id": "10023b36",
   "metadata": {},
   "outputs": [],
   "source": []
  },
  {
   "cell_type": "markdown",
   "id": "9a6a070a",
   "metadata": {},
   "source": [
    "19. Convert a string to title case (e.g., \"hello world\" to \"Hello World\")."
   ]
  },
  {
   "cell_type": "code",
   "execution_count": 25,
   "id": "fc534527",
   "metadata": {},
   "outputs": [
    {
     "name": "stdout",
     "output_type": "stream",
     "text": [
      "Hello, how are you doing today?\n"
     ]
    }
   ],
   "source": [
    "input_string = \"hello, how are you doing today?\"\n",
    "\n",
    "print(input_string.capitalize())"
   ]
  },
  {
   "cell_type": "code",
   "execution_count": null,
   "id": "8d2b4b42",
   "metadata": {},
   "outputs": [],
   "source": []
  },
  {
   "cell_type": "markdown",
   "id": "3618f43f",
   "metadata": {},
   "source": [
    "20. Find the longest word in a string."
   ]
  },
  {
   "cell_type": "code",
   "execution_count": 29,
   "id": "c6592dcc",
   "metadata": {},
   "outputs": [
    {
     "name": "stdout",
     "output_type": "stream",
     "text": [
      "This is the 'demonstration.' longest word ,with the length '14'\n"
     ]
    }
   ],
   "source": [
    "input_string = \"This is an example sentence. This sentence is for demonstration.\"\n",
    "words=input_string.split()\n",
    "\n",
    "longest_word=max(words,key=len)\n",
    "\n",
    "print(f\"This is the '{longest_word}' longest word ,with the length '{len(longest_word)}'\")"
   ]
  },
  {
   "cell_type": "code",
   "execution_count": null,
   "id": "4a7e9ffa",
   "metadata": {},
   "outputs": [],
   "source": []
  },
  {
   "cell_type": "markdown",
   "id": "a9392b31",
   "metadata": {},
   "source": [
    "21. Find the shortest word in a string."
   ]
  },
  {
   "cell_type": "code",
   "execution_count": 31,
   "id": "f3de9e9e",
   "metadata": {},
   "outputs": [
    {
     "name": "stdout",
     "output_type": "stream",
     "text": [
      "This is the 'is' shortest word ,with the length '2'\n"
     ]
    }
   ],
   "source": [
    "input_string = \"This is an example sentence. This sentence is for demonstration.\"\n",
    "words=input_string.split()\n",
    "\n",
    "Shortest_word=min(words,key=len)\n",
    "\n",
    "print(f\"This is the '{Shortest_word}' shortest word ,with the length '{len(Shortest_word)}'\")"
   ]
  },
  {
   "cell_type": "code",
   "execution_count": null,
   "id": "299fda57",
   "metadata": {},
   "outputs": [],
   "source": []
  },
  {
   "cell_type": "markdown",
   "id": "0447689f",
   "metadata": {},
   "source": [
    "22. Reverse the order of words in a string."
   ]
  },
  {
   "cell_type": "code",
   "execution_count": 32,
   "id": "2da3fe96",
   "metadata": {},
   "outputs": [
    {
     "name": "stdout",
     "output_type": "stream",
     "text": [
      ".noitartsnomed rof si ecnetnes sihT .ecnetnes elpmaxe na si sihT\n"
     ]
    }
   ],
   "source": [
    "input_string = \"This is an example sentence. This sentence is for demonstration.\"\n",
    "\n",
    "print(input_string[::-1])"
   ]
  },
  {
   "cell_type": "code",
   "execution_count": null,
   "id": "4028ef81",
   "metadata": {},
   "outputs": [],
   "source": []
  },
  {
   "cell_type": "markdown",
   "id": "f66424d3",
   "metadata": {},
   "source": [
    "23. Check if a string is alphanumeric."
   ]
  },
  {
   "cell_type": "code",
   "execution_count": 31,
   "id": "603ed2d9",
   "metadata": {},
   "outputs": [
    {
     "name": "stdout",
     "output_type": "stream",
     "text": [
      "True\n"
     ]
    }
   ],
   "source": [
    "words=\"This12\"\n",
    "is_alphanumeric = words.isalnum()\n",
    "print(is_alphanumeric)\n"
   ]
  },
  {
   "cell_type": "code",
   "execution_count": null,
   "id": "50b280d7",
   "metadata": {},
   "outputs": [],
   "source": []
  },
  {
   "cell_type": "markdown",
   "id": "d36c235b",
   "metadata": {},
   "source": [
    "24. Extract all digits from a string."
   ]
  },
  {
   "cell_type": "code",
   "execution_count": 32,
   "id": "8520ce6c",
   "metadata": {},
   "outputs": [
    {
     "name": "stdout",
     "output_type": "stream",
     "text": [
      "123456\n"
     ]
    }
   ],
   "source": [
    "input_string = \"Hello123World456\"\n",
    "\n",
    "digits = ''\n",
    "\n",
    "\n",
    "for char in input_string:\n",
    "    \n",
    "    if char.isdigit():\n",
    "        digits += char\n",
    "\n",
    "\n",
    "print(digits)  "
   ]
  },
  {
   "cell_type": "code",
   "execution_count": null,
   "id": "0d5c6773",
   "metadata": {},
   "outputs": [],
   "source": []
  },
  {
   "cell_type": "markdown",
   "id": "d6a00aa0",
   "metadata": {},
   "source": [
    "25. Extract all alphabets from a string."
   ]
  },
  {
   "cell_type": "code",
   "execution_count": 1,
   "id": "d663d099",
   "metadata": {},
   "outputs": [
    {
     "name": "stdout",
     "output_type": "stream",
     "text": [
      "HelloWorld\n"
     ]
    }
   ],
   "source": [
    "input_string = \"Hello123World456\"\n",
    "\n",
    "alpha = ''\n",
    "\n",
    "\n",
    "for char in input_string:\n",
    "    \n",
    "    if char.isalpha():\n",
    "        alpha += char\n",
    "\n",
    "\n",
    "print(alpha)  "
   ]
  },
  {
   "cell_type": "markdown",
   "id": "a0d9d1fb",
   "metadata": {},
   "source": []
  },
  {
   "cell_type": "markdown",
   "id": "f2bb7d2d",
   "metadata": {},
   "source": [
    "26. Count the number of uppercase letters in a string."
   ]
  },
  {
   "cell_type": "code",
   "execution_count": 8,
   "id": "a1d5eb83",
   "metadata": {},
   "outputs": [
    {
     "name": "stdout",
     "output_type": "stream",
     "text": [
      "enter the string Prajwal G K\n",
      "3\n"
     ]
    }
   ],
   "source": [
    "input_string=input(\"enter the string \")\n",
    "count=0\n",
    "\n",
    "for i in input_string:\n",
    "    if i.isupper():\n",
    "        count=count+1\n",
    "    \n",
    "print(count)"
   ]
  },
  {
   "cell_type": "code",
   "execution_count": null,
   "id": "1a587ca1",
   "metadata": {},
   "outputs": [],
   "source": []
  },
  {
   "cell_type": "markdown",
   "id": "62878f31",
   "metadata": {},
   "source": [
    "27. Count the number of lowercase letters in a string."
   ]
  },
  {
   "cell_type": "code",
   "execution_count": 9,
   "id": "fb6445f6",
   "metadata": {},
   "outputs": [
    {
     "name": "stdout",
     "output_type": "stream",
     "text": [
      "enter the string prQWER\n",
      "2\n"
     ]
    }
   ],
   "source": [
    "input_string=input(\"enter the string \")\n",
    "count=0\n",
    "\n",
    "for i in input_string:\n",
    "    if i.islower():\n",
    "        count=count+1\n",
    "    \n",
    "print(count)"
   ]
  },
  {
   "cell_type": "code",
   "execution_count": null,
   "id": "44280ea1",
   "metadata": {},
   "outputs": [],
   "source": []
  },
  {
   "cell_type": "markdown",
   "id": "d8ff6bd0",
   "metadata": {},
   "source": [
    "28. Swap the case of each character in a string."
   ]
  },
  {
   "cell_type": "code",
   "execution_count": 11,
   "id": "dbf28450",
   "metadata": {},
   "outputs": [
    {
     "name": "stdout",
     "output_type": "stream",
     "text": [
      "hELLO wORLD 123\n"
     ]
    }
   ],
   "source": [
    "input_string = \"Hello World 123\"\n",
    "\n",
    "swapped_string = input_string.swapcase()\n",
    "\n",
    "print(swapped_string)"
   ]
  },
  {
   "cell_type": "code",
   "execution_count": null,
   "id": "41f6525a",
   "metadata": {},
   "outputs": [],
   "source": []
  },
  {
   "cell_type": "markdown",
   "id": "151afd32",
   "metadata": {},
   "source": [
    "29. Remove a specific word from a string."
   ]
  },
  {
   "cell_type": "code",
   "execution_count": 12,
   "id": "09128556",
   "metadata": {},
   "outputs": [
    {
     "name": "stdout",
     "output_type": "stream",
     "text": [
      "This is a sample sentence with a  that needs to be removed.\n"
     ]
    }
   ],
   "source": [
    "input_string = \"This is a sample sentence with a specific_word that needs to be removed.\"\n",
    "\n",
    "word_to_remove = \"specific_word\"\n",
    "\n",
    "result_string = input_string.replace(word_to_remove, '')\n",
    "\n",
    "print(result_string)"
   ]
  },
  {
   "cell_type": "code",
   "execution_count": null,
   "id": "88a9ebda",
   "metadata": {},
   "outputs": [],
   "source": []
  },
  {
   "cell_type": "markdown",
   "id": "f32d630c",
   "metadata": {},
   "source": [
    "30. Check if a string is a valid email address."
   ]
  },
  {
   "cell_type": "code",
   "execution_count": 13,
   "id": "3b2f1e01",
   "metadata": {},
   "outputs": [
    {
     "name": "stdout",
     "output_type": "stream",
     "text": [
      "The email 'example@email.com' is valid.\n"
     ]
    }
   ],
   "source": [
    "import re\n",
    "\n",
    "email_to_check = \"example@email.com\"\n",
    "\n",
    "email_regex = r'^[a-zA-Z0-9_.+-]+@[a-zA-Z0-9-]+\\.[a-zA-Z0-9-.]+$'\n",
    "\n",
    "if re.match(email_regex, email_to_check):\n",
    "    print(f\"The email '{email_to_check}' is valid.\")\n",
    "else:\n",
    "    print(f\"The email '{email_to_check}' is not valid.\")\n"
   ]
  },
  {
   "cell_type": "code",
   "execution_count": null,
   "id": "b1d35ec5",
   "metadata": {},
   "outputs": [],
   "source": []
  },
  {
   "cell_type": "markdown",
   "id": "75279156",
   "metadata": {},
   "source": [
    "31. Extract the username from an email address string."
   ]
  },
  {
   "cell_type": "code",
   "execution_count": 14,
   "id": "59ab52b8",
   "metadata": {},
   "outputs": [
    {
     "name": "stdout",
     "output_type": "stream",
     "text": [
      "The username in the email 'example@email.com' is: example\n"
     ]
    }
   ],
   "source": [
    "email = \"example@email.com\"\n",
    "\n",
    "# Split the email address at the '@' symbol\n",
    "username = email.split('@')[0]\n",
    "\n",
    "print(f\"The username in the email '{email}' is: {username}\")"
   ]
  },
  {
   "cell_type": "code",
   "execution_count": null,
   "id": "95019094",
   "metadata": {},
   "outputs": [],
   "source": []
  },
  {
   "cell_type": "markdown",
   "id": "28b3922d",
   "metadata": {},
   "source": [
    "32. Extract the domain name from an email address string."
   ]
  },
  {
   "cell_type": "code",
   "execution_count": 15,
   "id": "1c6421c8",
   "metadata": {},
   "outputs": [
    {
     "name": "stdout",
     "output_type": "stream",
     "text": [
      "The domain in the email 'example@email.com' is: email.com\n"
     ]
    }
   ],
   "source": [
    "email = \"example@email.com\"\n",
    "\n",
    "# Split the email address at the '@' symbol and get the domain part\n",
    "domain = email.split('@')[1]\n",
    "\n",
    "print(f\"The domain in the email '{email}' is: {domain}\")\n"
   ]
  },
  {
   "cell_type": "code",
   "execution_count": null,
   "id": "ea32e015",
   "metadata": {},
   "outputs": [],
   "source": []
  },
  {
   "cell_type": "markdown",
   "id": "0cfacfd9",
   "metadata": {},
   "source": [
    "33. Replace multiple spaces in a string with a single space."
   ]
  },
  {
   "cell_type": "code",
   "execution_count": 16,
   "id": "473d39cd",
   "metadata": {},
   "outputs": [
    {
     "name": "stdout",
     "output_type": "stream",
     "text": [
      "The modified string: This is a string with multiple spaces.\n"
     ]
    }
   ],
   "source": [
    "input_string = \"This    is   a   string    with   multiple     spaces.\"\n",
    "\n",
    "# Using string manipulation \n",
    "words = input_string.split()\n",
    "modified_string = ' '.join(words)\n",
    "\n",
    "print(f\"The modified string: {modified_string}\")"
   ]
  },
  {
   "cell_type": "code",
   "execution_count": null,
   "id": "ea681c89",
   "metadata": {},
   "outputs": [],
   "source": []
  },
  {
   "cell_type": "markdown",
   "id": "2c28b888",
   "metadata": {},
   "source": [
    "34. Check if a string is a valid URL."
   ]
  },
  {
   "cell_type": "code",
   "execution_count": null,
   "id": "061cb0de",
   "metadata": {},
   "outputs": [],
   "source": [
    "pip install validators\n",
    "import validators\n",
    "\n",
    "url = \"https://www.example.com\"\n",
    "\n",
    "if validators.url(url):\n",
    "    print(f\"The URL '{url}' is valid.\")\n",
    "else:\n",
    "    print(f\"The URL '{url}' is not valid.\")\n"
   ]
  },
  {
   "cell_type": "code",
   "execution_count": null,
   "id": "80aeac40",
   "metadata": {},
   "outputs": [],
   "source": []
  },
  {
   "cell_type": "markdown",
   "id": "29556f6b",
   "metadata": {},
   "source": [
    "35. Extract the protocol (http or https) from a URL string."
   ]
  },
  {
   "cell_type": "code",
   "execution_count": 21,
   "id": "518ddab8",
   "metadata": {},
   "outputs": [
    {
     "name": "stdout",
     "output_type": "stream",
     "text": [
      "The protocol in the URL 'https://www.example.com/path/to/page' is: https\n"
     ]
    }
   ],
   "source": [
    "url = \"https://www.example.com/path/to/page\"\n",
    "\n",
    "\n",
    "protocol = url.split('://')[0]\n",
    "\n",
    "print(f\"The protocol in the URL '{url}' is: {protocol}\")\n",
    "\n"
   ]
  },
  {
   "cell_type": "code",
   "execution_count": null,
   "id": "56595bee",
   "metadata": {},
   "outputs": [],
   "source": []
  },
  {
   "cell_type": "markdown",
   "id": "718e3219",
   "metadata": {},
   "source": [
    "36. Find the frequency of each character in a string."
   ]
  },
  {
   "cell_type": "code",
   "execution_count": 22,
   "id": "5829f487",
   "metadata": {},
   "outputs": [
    {
     "name": "stdout",
     "output_type": "stream",
     "text": [
      "Character 'h' occurs 1 time(s) in the string.\n",
      "Character 'e' occurs 1 time(s) in the string.\n",
      "Character 'l' occurs 2 time(s) in the string.\n",
      "Character 'o' occurs 1 time(s) in the string.\n"
     ]
    }
   ],
   "source": [
    "input_string = \"hello\"\n",
    "\n",
    "char_frequency = {}\n",
    "\n",
    "for char in input_string:\n",
    "    if char in char_frequency:\n",
    "        char_frequency[char] += 1\n",
    "    else:\n",
    "        char_frequency[char] = 1\n",
    "\n",
    "\n",
    "for char, freq in char_frequency.items():\n",
    "    print(f\"Character '{char}' occurs {freq} time(s) in the string.\")"
   ]
  },
  {
   "cell_type": "code",
   "execution_count": null,
   "id": "9c779656",
   "metadata": {},
   "outputs": [],
   "source": []
  },
  {
   "cell_type": "markdown",
   "id": "c1019106",
   "metadata": {},
   "source": [
    "37. Remove all punctuation from a string."
   ]
  },
  {
   "cell_type": "code",
   "execution_count": 23,
   "id": "7b829e5c",
   "metadata": {},
   "outputs": [
    {
     "name": "stdout",
     "output_type": "stream",
     "text": [
      "The string without punctuation: Hello This is a string With some punctuations\n"
     ]
    }
   ],
   "source": [
    "\n",
    "import string\n",
    "\n",
    "input_string = \"Hello! This, is a string. With some punctuations?\"\n",
    "\n",
    "\n",
    "translator = str.maketrans('', '', string.punctuation)\n",
    "\n",
    "\n",
    "string_without_punctuation = input_string.translate(translator)\n",
    "\n",
    "print(f\"The string without punctuation: {string_without_punctuation}\")"
   ]
  },
  {
   "cell_type": "code",
   "execution_count": null,
   "id": "844572aa",
   "metadata": {},
   "outputs": [],
   "source": []
  },
  {
   "cell_type": "markdown",
   "id": "421e857e",
   "metadata": {},
   "source": [
    "38. Check if a string contains only digits."
   ]
  },
  {
   "cell_type": "code",
   "execution_count": 24,
   "id": "18c99c80",
   "metadata": {},
   "outputs": [
    {
     "name": "stdout",
     "output_type": "stream",
     "text": [
      "The string contains only digits.\n"
     ]
    }
   ],
   "source": [
    "input_string = \"12345\"\n",
    "\n",
    "if all(char.isdigit() for char in input_string):\n",
    "    print(\"The string contains only digits.\")\n",
    "else:\n",
    "    print(\"The string doesn't contain only digits.\")\n"
   ]
  },
  {
   "cell_type": "code",
   "execution_count": null,
   "id": "ad4a3ee3",
   "metadata": {},
   "outputs": [],
   "source": []
  },
  {
   "cell_type": "markdown",
   "id": "76b9c83f",
   "metadata": {},
   "source": [
    "39. Check if a string contains only alphabets.input_string = \"Hello\"\n",
    "\n",
    "\n"
   ]
  },
  {
   "cell_type": "code",
   "execution_count": 25,
   "id": "f8a3de58",
   "metadata": {},
   "outputs": [
    {
     "name": "stdout",
     "output_type": "stream",
     "text": [
      "The string contains only alphabetic characters.\n"
     ]
    }
   ],
   "source": [
    "input_string = \"Hello\"\n",
    "\n",
    "if all(char.isalpha() for char in input_string):\n",
    "    print(\"The string contains only alphabetic characters.\")\n",
    "else:\n",
    "    print(\"The string doesn't contain only alphabetic characters.\")\n"
   ]
  },
  {
   "cell_type": "code",
   "execution_count": null,
   "id": "f1a926f8",
   "metadata": {},
   "outputs": [],
   "source": []
  },
  {
   "cell_type": "markdown",
   "id": "4be23746",
   "metadata": {},
   "source": [
    "40. Convert a string to a list of characters."
   ]
  },
  {
   "cell_type": "code",
   "execution_count": 27,
   "id": "618fc864",
   "metadata": {},
   "outputs": [
    {
     "name": "stdout",
     "output_type": "stream",
     "text": [
      "The list of characters: ['H', 'e', 'l', 'l', 'o']\n"
     ]
    }
   ],
   "source": [
    "input_string = \"Hello\"\n",
    "\n",
    "list_of_characters = list(input_string)\n",
    "\n",
    "print(f\"The list of characters: {list_of_characters}\")\n"
   ]
  },
  {
   "cell_type": "code",
   "execution_count": null,
   "id": "3f69f711",
   "metadata": {},
   "outputs": [],
   "source": []
  },
  {
   "cell_type": "markdown",
   "id": "e1def98a",
   "metadata": {},
   "source": [
    "41. Check if two strings are anagrams.\n"
   ]
  },
  {
   "cell_type": "code",
   "execution_count": 28,
   "id": "f1eac838",
   "metadata": {},
   "outputs": [
    {
     "name": "stdout",
     "output_type": "stream",
     "text": [
      "The strings 'listen' and 'silent' are anagrams.\n"
     ]
    }
   ],
   "source": [
    "def are_anagrams(str1, str2):\n",
    "    # Remove spaces and convert strings to lowercase\n",
    "    str1 = str1.replace(\" \", \"\").lower()\n",
    "    str2 = str2.replace(\" \", \"\").lower()\n",
    "\n",
    "    if len(str1) != len(str2):\n",
    "        return False\n",
    "\n",
    "    # Create a character count dictionary for both strings\n",
    "    char_count = {}\n",
    "\n",
    "    # Increment count for characters in the first string\n",
    "    for char in str1:\n",
    "        if char in char_count:\n",
    "            char_count[char] += 1\n",
    "        else:\n",
    "            char_count[char] = 1\n",
    "\n",
    "    # Decrement count for characters in the second string\n",
    "    for char in str2:\n",
    "        if char in char_count:\n",
    "            char_count[char] -= 1\n",
    "        else:\n",
    "            return False  # Character not in the first string\n",
    "\n",
    "    # Check if all character counts are zero\n",
    "    for count in char_count.values():\n",
    "        if count != 0:\n",
    "            return False\n",
    "\n",
    "    return True\n",
    "\n",
    "# Example strings to check for anagrams\n",
    "string1 = \"listen\"\n",
    "string2 = \"silent\"\n",
    "\n",
    "if are_anagrams(string1, string2):\n",
    "    print(f\"The strings '{string1}' and '{string2}' are anagrams.\")\n",
    "else:\n",
    "    print(f\"The strings '{string1}' and '{string2}' are not anagrams.\")\n"
   ]
  },
  {
   "cell_type": "code",
   "execution_count": null,
   "id": "2f9780b7",
   "metadata": {},
   "outputs": [],
   "source": []
  },
  {
   "cell_type": "markdown",
   "id": "57d45d8b",
   "metadata": {},
   "source": [
    "42. Encode a string using a Caesar cipher."
   ]
  },
  {
   "cell_type": "code",
   "execution_count": 29,
   "id": "9ae1aa51",
   "metadata": {},
   "outputs": [
    {
     "name": "stdout",
     "output_type": "stream",
     "text": [
      "Original text: Hello, World!\n",
      "Encrypted text: Khoor, Zruog!\n"
     ]
    }
   ],
   "source": [
    "def caesar_cipher(text, shift):\n",
    "    encrypted_text = \"\"\n",
    "\n",
    "    for char in text:\n",
    "        # Check if the character is a letter\n",
    "        if char.isalpha():\n",
    "            # Determine the shift based on the character's case (uppercase or lowercase)\n",
    "            shift_amount = (ord('A') if char.isupper() else ord('a'))\n",
    "            encrypted_text += chr((ord(char) - shift_amount + shift) % 26 + shift_amount)\n",
    "        else:\n",
    "            # If the character is not a letter, keep it as it is\n",
    "            encrypted_text += char\n",
    "\n",
    "    return encrypted_text\n",
    "\n",
    "# Example text and shift value\n",
    "text = \"Hello, World!\"\n",
    "shift = 3\n",
    "\n",
    "# Encrypting the text using the Caesar cipher\n",
    "encrypted_text = caesar_cipher(text, shift)\n",
    "\n",
    "print(f\"Original text: {text}\")\n",
    "print(f\"Encrypted text: {encrypted_text}\")\n"
   ]
  },
  {
   "cell_type": "code",
   "execution_count": null,
   "id": "df499134",
   "metadata": {},
   "outputs": [],
   "source": []
  },
  {
   "cell_type": "markdown",
   "id": "f96a53e6",
   "metadata": {},
   "source": [
    "43. Decode a Caesar cipher encoded string."
   ]
  },
  {
   "cell_type": "code",
   "execution_count": 30,
   "id": "de66de69",
   "metadata": {},
   "outputs": [
    {
     "name": "stdout",
     "output_type": "stream",
     "text": [
      "Encrypted text: Khoor, Zruog!\n",
      "Decrypted text: Hello, World!\n"
     ]
    }
   ],
   "source": [
    "def caesar_decipher(text, shift):\n",
    "    decrypted_text = \"\"\n",
    "\n",
    "    for char in text:\n",
    "        if char.isalpha():\n",
    "            # Determine the shift based on the character's case (uppercase or lowercase)\n",
    "            shift_amount = ord('A') if char.isupper() else ord('a')\n",
    "            decrypted_text += chr((ord(char) - shift_amount - shift) % 26 + shift_amount)\n",
    "        else:\n",
    "            # If the character is not a letter, keep it as it is\n",
    "            decrypted_text += char\n",
    "\n",
    "    return decrypted_text\n",
    "\n",
    "# Example encrypted text and shift value\n",
    "encrypted_text = \"Khoor, Zruog!\"\n",
    "shift = 3\n",
    "\n",
    "# Decrypting the text using the Caesar cipher\n",
    "decrypted_text = caesar_decipher(encrypted_text, shift)\n",
    "\n",
    "print(f\"Encrypted text: {encrypted_text}\")\n",
    "print(f\"Decrypted text: {decrypted_text}\")\n"
   ]
  },
  {
   "cell_type": "code",
   "execution_count": null,
   "id": "0c9e339a",
   "metadata": {},
   "outputs": [],
   "source": []
  },
  {
   "cell_type": "markdown",
   "id": "608f3936",
   "metadata": {},
   "source": [
    "44. Find the most frequent word in a string."
   ]
  },
  {
   "cell_type": "code",
   "execution_count": 31,
   "id": "2de0f1f3",
   "metadata": {},
   "outputs": [
    {
     "name": "stdout",
     "output_type": "stream",
     "text": [
      "The most frequent word is: 'this'\n"
     ]
    }
   ],
   "source": [
    "from collections import Counter\n",
    "import string\n",
    "\n",
    "def most_frequent_word(text):\n",
    "    # Remove punctuation and convert text to lowercase\n",
    "    text = text.translate(str.maketrans('', '', string.punctuation)).lower()\n",
    "\n",
    "    # Split the text into words\n",
    "    words = text.split()\n",
    "\n",
    "    # Count the occurrences of each word\n",
    "    word_counts = Counter(words)\n",
    "\n",
    "    # Find the most common word\n",
    "    most_common_word = word_counts.most_common(1)\n",
    "\n",
    "    return most_common_word[0][0] if most_common_word else None\n",
    "\n",
    "# Example string to find the most frequent word\n",
    "input_text = \"This is a sample text. This text is used to demonstrate the process.\"\n",
    "\n",
    "most_frequent = most_frequent_word(input_text)\n",
    "if most_frequent:\n",
    "    print(f\"The most frequent word is: '{most_frequent}'\")\n",
    "else:\n",
    "    print(\"No words found in the input text.\")\n"
   ]
  },
  {
   "cell_type": "code",
   "execution_count": null,
   "id": "5a033d60",
   "metadata": {},
   "outputs": [],
   "source": []
  },
  {
   "cell_type": "markdown",
   "id": "4bac5f4c",
   "metadata": {},
   "source": [
    "45. Find all unique words in a string."
   ]
  },
  {
   "cell_type": "code",
   "execution_count": 32,
   "id": "15fc435a",
   "metadata": {},
   "outputs": [
    {
     "name": "stdout",
     "output_type": "stream",
     "text": [
      "Unique words in the text:\n",
      "sample\n",
      "the\n",
      "used\n",
      "process\n",
      "this\n",
      "a\n",
      "demonstrate\n",
      "text\n",
      "to\n",
      "is\n"
     ]
    }
   ],
   "source": [
    "import string\n",
    "\n",
    "def unique_words(text):\n",
    "    # Remove punctuation and convert text to lowercase\n",
    "    text = text.translate(str.maketrans('', '', string.punctuation)).lower()\n",
    "\n",
    "    # Split the text into words\n",
    "    words = text.split()\n",
    "\n",
    "    # Use a set to collect unique words\n",
    "    unique_word_set = set(words)\n",
    "\n",
    "    return unique_word_set\n",
    "\n",
    "# Example string to find unique words\n",
    "input_text = \"This is a sample text. This text is used to demonstrate the process.\"\n",
    "\n",
    "unique_words_set = unique_words(input_text)\n",
    "\n",
    "if unique_words_set:\n",
    "    print(\"Unique words in the text:\")\n",
    "    for word in unique_words_set:\n",
    "        print(word)\n",
    "else:\n",
    "    print(\"No words found in the input text.\")\n"
   ]
  },
  {
   "cell_type": "code",
   "execution_count": null,
   "id": "9d9b5286",
   "metadata": {},
   "outputs": [],
   "source": []
  },
  {
   "cell_type": "markdown",
   "id": "7ae05f58",
   "metadata": {},
   "source": [
    "46. Count the number of syllables in a string."
   ]
  },
  {
   "cell_type": "code",
   "execution_count": 33,
   "id": "1250090d",
   "metadata": {},
   "outputs": [
    {
     "name": "stdout",
     "output_type": "stream",
     "text": [
      "Total number of syllables: 17\n"
     ]
    }
   ],
   "source": [
    "def count_syllables(text):\n",
    "    # Split the text into words\n",
    "    words = text.split()\n",
    "    syllable_count = 0\n",
    "\n",
    "    for word in words:\n",
    "        word_syllables = 0\n",
    "        in_vowel_group = False  # Flag to handle diphthongs or consecutive vowels\n",
    "        for char in word:\n",
    "            if char.lower() in 'aeiouy':\n",
    "                if not in_vowel_group:\n",
    "                    word_syllables += 1\n",
    "                in_vowel_group = True\n",
    "            else:\n",
    "                in_vowel_group = False\n",
    "\n",
    "        # Adjust for words ending with 'e'\n",
    "        if word.endswith(('e', 'es')) and not word.endswith(('le', 'es')):\n",
    "            word_syllables -= 1\n",
    "\n",
    "        # Handle words with no vowels\n",
    "        if word_syllables == 0:\n",
    "            word_syllables = 1 if len(word) > 0 else 0\n",
    "\n",
    "        syllable_count += word_syllables\n",
    "\n",
    "    return syllable_count\n",
    "\n",
    "# Example string to count syllables\n",
    "input_text = \"This is an example sentence to count the number of syllables.\"\n",
    "\n",
    "total_syllables = count_syllables(input_text)\n",
    "print(f\"Total number of syllables: {total_syllables}\")\n"
   ]
  },
  {
   "cell_type": "code",
   "execution_count": null,
   "id": "8cbe9a4f",
   "metadata": {},
   "outputs": [],
   "source": []
  },
  {
   "cell_type": "markdown",
   "id": "7724850c",
   "metadata": {},
   "source": [
    "47. Check if a string contains any special characters."
   ]
  },
  {
   "cell_type": "code",
   "execution_count": 34,
   "id": "90dddb5b",
   "metadata": {},
   "outputs": [
    {
     "name": "stdout",
     "output_type": "stream",
     "text": [
      "The string contains special characters.\n"
     ]
    }
   ],
   "source": [
    "def contains_special_characters(text):\n",
    "    # Check each character in the text\n",
    "    for char in text:\n",
    "        if not char.isalnum():  # Check if the character is not alphanumeric\n",
    "            return True  # Return True if a special character is found\n",
    "\n",
    "    return False  # Return False if no special characters are found\n",
    "\n",
    "# Example string to check for special characters\n",
    "input_text = \"This is a string with special characters like ! and @.\"\n",
    "\n",
    "if contains_special_characters(input_text):\n",
    "    print(\"The string contains special characters.\")\n",
    "else:\n",
    "    print(\"The string does not contain special characters.\")\n"
   ]
  },
  {
   "cell_type": "code",
   "execution_count": null,
   "id": "172f860b",
   "metadata": {},
   "outputs": [],
   "source": []
  },
  {
   "cell_type": "markdown",
   "id": "a6a25657",
   "metadata": {},
   "source": [
    "48. Remove the nth word from a string."
   ]
  },
  {
   "cell_type": "code",
   "execution_count": 35,
   "id": "61f32836",
   "metadata": {},
   "outputs": [
    {
     "name": "stdout",
     "output_type": "stream",
     "text": [
      "Updated text after removing the 3 word: This is sample sentence to remove a word.\n"
     ]
    }
   ],
   "source": [
    "def remove_nth_word(text, n):\n",
    "    # Split the text into words\n",
    "    words = text.split()\n",
    "\n",
    "    # Check if the index is within the range of words\n",
    "    if 0 < n <= len(words):\n",
    "        del words[n - 1]  # Remove the word at the given index\n",
    "\n",
    "        # Reconstruct the text without the removed word\n",
    "        updated_text = ' '.join(words)\n",
    "        return updated_text\n",
    "    else:\n",
    "        return \"Index out of range or not a valid word to remove.\"\n",
    "\n",
    "# Example string and index to remove a word\n",
    "input_text = \"This is a sample sentence to remove a word.\"\n",
    "index_to_remove = 3  # Specify the index (1-indexed) of the word to be removed\n",
    "\n",
    "new_text = remove_nth_word(input_text, index_to_remove)\n",
    "print(f\"Updated text after removing the {index_to_remove} word: {new_text}\")\n"
   ]
  },
  {
   "cell_type": "code",
   "execution_count": null,
   "id": "0c452181",
   "metadata": {},
   "outputs": [],
   "source": []
  },
  {
   "cell_type": "markdown",
   "id": "6f541fa3",
   "metadata": {},
   "source": [
    "49. Insert a word at the nth position in a string."
   ]
  },
  {
   "cell_type": "code",
   "execution_count": 37,
   "id": "b7ce300e",
   "metadata": {},
   "outputs": [
    {
     "name": "stdout",
     "output_type": "stream",
     "text": [
      "Updated text after inserting the word: This is a sample new_word sentence to insert a word.\n"
     ]
    }
   ],
   "source": [
    "\n",
    "def insert_word_at_nth_position(text, word, n):\n",
    "    # Split the text into words\n",
    "    words = text.split()\n",
    "\n",
    "    # Check if the index is within the range of words or at the end to append the word\n",
    "    if 0 <= n <= len(words):\n",
    "        words.insert(n, word)  # Insert the word at the given index\n",
    "\n",
    "        # Reconstruct the text with the inserted word\n",
    "        updated_text = ' '.join(words)\n",
    "        return updated_text\n",
    "    else:\n",
    "        return \"Index out of range. Word cannot be inserted at the specified position.\"\n",
    "\n",
    "# Example string and word to insert at a specific position\n",
    "input_text = \"This is a sample sentence to insert a word.\"\n",
    "word_to_insert = \"new_word\"\n",
    "index_to_insert = 4  # Specify the index (0-indexed) to insert the word\n",
    "\n",
    "new_text = insert_word_at_nth_position(input_text, word_to_insert, index_to_insert)\n",
    "print(f\"Updated text after inserting the word: {new_text}\")\n"
   ]
  },
  {
   "cell_type": "code",
   "execution_count": null,
   "id": "8f322692",
   "metadata": {},
   "outputs": [],
   "source": []
  },
  {
   "cell_type": "markdown",
   "id": "a6d2ba14",
   "metadata": {},
   "source": [
    "50. Convert a CSV string to a list of lists."
   ]
  },
  {
   "cell_type": "code",
   "execution_count": 39,
   "id": "e18aea05",
   "metadata": {},
   "outputs": [
    {
     "name": "stdout",
     "output_type": "stream",
     "text": [
      "CSV string converted to a list of lists:\n",
      "[['1', 'John', 'Doe'], ['2', 'Jane', 'Smith'], ['3', 'Bob', 'Johnson']]\n"
     ]
    }
   ],
   "source": [
    "def csv_string_to_list_of_lists(csv_string):\n",
    "    rows = csv_string.split('\\n')  # Split by new line to separate rows\n",
    "    data = [row.split(',') for row in rows if row]  # Split each row by comma\n",
    "\n",
    "    return data\n",
    "\n",
    "# Example CSV string to convert\n",
    "csv_string = \"1,John,Doe\\n2,Jane,Smith\\n3,Bob,Johnson\"\n",
    "\n",
    "list_of_lists = csv_string_to_list_of_lists(csv_string)\n",
    "print(\"CSV string converted to a list of lists:\")\n",
    "print(list_of_lists)\n"
   ]
  },
  {
   "cell_type": "code",
   "execution_count": null,
   "id": "e0a4d806",
   "metadata": {},
   "outputs": [],
   "source": []
  }
 ],
 "metadata": {
  "kernelspec": {
   "display_name": "Python 3 (ipykernel)",
   "language": "python",
   "name": "python3"
  },
  "language_info": {
   "codemirror_mode": {
    "name": "ipython",
    "version": 3
   },
   "file_extension": ".py",
   "mimetype": "text/x-python",
   "name": "python",
   "nbconvert_exporter": "python",
   "pygments_lexer": "ipython3",
   "version": "3.11.3"
  }
 },
 "nbformat": 4,
 "nbformat_minor": 5
}
